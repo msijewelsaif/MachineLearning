{
 "cells": [
  {
   "cell_type": "code",
   "execution_count": 2,
   "id": "52c9fe56-faf5-46c1-9a97-bbb5dc924a42",
   "metadata": {},
   "outputs": [],
   "source": [
    "import pandas as pd\n",
    "import emoji\n",
    "\n"
   ]
  },
  {
   "cell_type": "code",
   "execution_count": 3,
   "id": "38e43ab0-8a33-4a1d-8567-1061089cbc23",
   "metadata": {},
   "outputs": [],
   "source": [
    "data= pd.read_csv('The_devastating_impact_of_war_on_the_lives_of_Ukraine_children_2APr2022BBC_News.csv')"
   ]
  },
  {
   "cell_type": "code",
   "execution_count": 4,
   "id": "a98f1bfd-81dd-48e7-b3f4-5e8f4369a3a7",
   "metadata": {},
   "outputs": [
    {
     "name": "stdout",
     "output_type": "stream",
     "text": [
      "<class 'pandas.core.frame.DataFrame'>\n",
      "RangeIndex: 206 entries, 0 to 205\n",
      "Data columns (total 1 columns):\n",
      " #   Column   Non-Null Count  Dtype \n",
      "---  ------   --------------  ----- \n",
      " 0   Comment  206 non-null    object\n",
      "dtypes: object(1)\n",
      "memory usage: 1.7+ KB\n"
     ]
    }
   ],
   "source": [
    "data.info()"
   ]
  },
  {
   "cell_type": "code",
   "execution_count": 5,
   "id": "d2d4ef43-e0f9-404a-bd43-c79ba9c2a125",
   "metadata": {},
   "outputs": [
    {
     "data": {
      "text/html": [
       "<div>\n",
       "<style scoped>\n",
       "    .dataframe tbody tr th:only-of-type {\n",
       "        vertical-align: middle;\n",
       "    }\n",
       "\n",
       "    .dataframe tbody tr th {\n",
       "        vertical-align: top;\n",
       "    }\n",
       "\n",
       "    .dataframe thead th {\n",
       "        text-align: right;\n",
       "    }\n",
       "</style>\n",
       "<table border=\"1\" class=\"dataframe\">\n",
       "  <thead>\n",
       "    <tr style=\"text-align: right;\">\n",
       "      <th></th>\n",
       "      <th>Comment</th>\n",
       "    </tr>\n",
       "  </thead>\n",
       "  <tbody>\n",
       "    <tr>\n",
       "      <th>0</th>\n",
       "      <td>Prayers for the people of ukraines🙏</td>\n",
       "    </tr>\n",
       "    <tr>\n",
       "      <th>1</th>\n",
       "      <td>😌😭😭😭😭😭😭😭🌹🌹</td>\n",
       "    </tr>\n",
       "    <tr>\n",
       "      <th>2</th>\n",
       "      <td>Rest in peace innocent children victim of evil...</td>\n",
       "    </tr>\n",
       "    <tr>\n",
       "      <th>3</th>\n",
       "      <td>And we have a teaching assistant/staff member ...</td>\n",
       "    </tr>\n",
       "    <tr>\n",
       "      <th>4</th>\n",
       "      <td>Perhaps, she's seen the news about Russia 🇷🇺 a...</td>\n",
       "    </tr>\n",
       "  </tbody>\n",
       "</table>\n",
       "</div>"
      ],
      "text/plain": [
       "                                             Comment\n",
       "0                Prayers for the people of ukraines🙏\n",
       "1                                         😌😭😭😭😭😭😭😭🌹🌹\n",
       "2  Rest in peace innocent children victim of evil...\n",
       "3  And we have a teaching assistant/staff member ...\n",
       "4  Perhaps, she's seen the news about Russia 🇷🇺 a..."
      ]
     },
     "execution_count": 5,
     "metadata": {},
     "output_type": "execute_result"
    }
   ],
   "source": [
    "data.head()"
   ]
  },
  {
   "cell_type": "code",
   "execution_count": 21,
   "id": "6ab28858-ddee-4991-a8b8-bd595bd525fe",
   "metadata": {},
   "outputs": [
    {
     "name": "stdout",
     "output_type": "stream",
     "text": [
      "Emoji conversion completed. Check 'Ukraine_official_Gates_of_war_have_opened_on_Russian_territory_3jun_emoji_converted_comments.csv' for the result.\n"
     ]
    }
   ],
   "source": [
    "import pandas as pd\n",
    "import emoji\n",
    "\n",
    "\n",
    "file_name = 'Ukraine_official_Gates_of_war_have_opened_on_Russian_territory_3jun.csv'\n",
    "df = pd.read_csv(file_name)\n",
    "\n",
    "\n",
    "def convert_emojis_to_text(text):\n",
    "    # Convert emojis to their textual description\n",
    "    return emoji.demojize(str(text))  # Convert to string in case there are non-string data\n",
    "\n",
    "\n",
    "df['Comment_with_Emojis_Converted'] = df['Comment'].apply(convert_emojis_to_text)\n",
    "\n",
    "\n",
    "output_file_name = 'Ukraine_official_Gates_of_war_have_opened_on_Russian_territory_3jun_emoji_converted_comments.csv'\n",
    "df.to_csv(output_file_name, index=False)\n",
    "\n",
    "print(f\"Emoji conversion completed. Check '{output_file_name}' for the result.\")\n"
   ]
  },
  {
   "cell_type": "code",
   "execution_count": null,
   "id": "367f3e80-e3eb-4227-b2cd-14eb9866de77",
   "metadata": {},
   "outputs": [],
   "source": []
  }
 ],
 "metadata": {
  "kernelspec": {
   "display_name": "Python 3 (ipykernel)",
   "language": "python",
   "name": "python3"
  },
  "language_info": {
   "codemirror_mode": {
    "name": "ipython",
    "version": 3
   },
   "file_extension": ".py",
   "mimetype": "text/x-python",
   "name": "python",
   "nbconvert_exporter": "python",
   "pygments_lexer": "ipython3",
   "version": "3.12.3"
  }
 },
 "nbformat": 4,
 "nbformat_minor": 5
}
