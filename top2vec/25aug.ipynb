{
 "cells": [
  {
   "cell_type": "code",
   "execution_count": null,
   "id": "3cadedaa-fafd-419d-b252-23383ed8a9e5",
   "metadata": {},
   "outputs": [],
   "source": [
    "try:\n",
    "    import top2vec\n",
    "    print(\"Top2Vec is installed!\")\n",
    "except ImportError:\n",
    "    print(\"Top2Vec is not installed.\")\n"
   ]
  },
  {
   "cell_type": "code",
   "execution_count": 8,
   "id": "3ba08590-f007-4cbd-8468-49e681d1b99d",
   "metadata": {},
   "outputs": [
    {
     "name": "stdout",
     "output_type": "stream",
     "text": [
      "Top2Vec is installed!\n"
     ]
    }
   ],
   "source": [
    "try:\n",
    "    import top2vec\n",
    "    print(\"Top2Vec is installed!\")\n",
    "except ImportError:\n",
    "    print(\"Top2Vec is not installed.\")\n"
   ]
  },
  {
   "cell_type": "code",
   "execution_count": 7,
   "id": "5d9f85ec-2257-4f30-aae7-39db7971f2eb",
   "metadata": {},
   "outputs": [
    {
     "name": "stdout",
     "output_type": "stream",
     "text": [
      "Top2Vec is installed!\n"
     ]
    }
   ],
   "source": [
    "try:\n",
    "    import top2vec\n",
    "    print(\"Top2Vec is installed!\")\n",
    "except ImportError:\n",
    "    print(\"Top2Vec is not installed.\")\n"
   ]
  },
  {
   "cell_type": "code",
   "execution_count": 11,
   "id": "9bebbf88-4279-4303-904f-752e5a291ec0",
   "metadata": {},
   "outputs": [
    {
     "ename": "ImportError",
     "evalue": "universal-sentence-encoder-multilingual is not available.\n\nTry: pip install top2vec[sentence_encoders]\n\nAlternatively try: pip install tensorflow tensorflow_hub tensorflow_text",
     "output_type": "error",
     "traceback": [
      "\u001b[1;31m---------------------------------------------------------------------------\u001b[0m",
      "\u001b[1;31mImportError\u001b[0m                               Traceback (most recent call last)",
      "Cell \u001b[1;32mIn[11], line 13\u001b[0m\n\u001b[0;32m      4\u001b[0m documents \u001b[38;5;241m=\u001b[39m [\n\u001b[0;32m      5\u001b[0m     \u001b[38;5;124m\"\u001b[39m\u001b[38;5;124mI love programming in Python. Python is a great language for data science.\u001b[39m\u001b[38;5;124m\"\u001b[39m,\n\u001b[0;32m      6\u001b[0m     \u001b[38;5;124m\"\u001b[39m\u001b[38;5;124mJavaScript is widely used for web development.\u001b[39m\u001b[38;5;124m\"\u001b[39m,\n\u001b[1;32m   (...)\u001b[0m\n\u001b[0;32m      9\u001b[0m     \u001b[38;5;124m\"\u001b[39m\u001b[38;5;124mDeep learning is a subset of machine learning involving neural networks.\u001b[39m\u001b[38;5;124m\"\u001b[39m,\n\u001b[0;32m     10\u001b[0m ]\n\u001b[0;32m     12\u001b[0m \u001b[38;5;66;03m# Create a Top2Vec model\u001b[39;00m\n\u001b[1;32m---> 13\u001b[0m model \u001b[38;5;241m=\u001b[39m Top2Vec(documents, speed\u001b[38;5;241m=\u001b[39m\u001b[38;5;124m\"\u001b[39m\u001b[38;5;124mfast-learn\u001b[39m\u001b[38;5;124m\"\u001b[39m, workers\u001b[38;5;241m=\u001b[39m\u001b[38;5;241m4\u001b[39m)\n\u001b[0;32m     15\u001b[0m \u001b[38;5;66;03m# Get the topics\u001b[39;00m\n\u001b[0;32m     16\u001b[0m topics \u001b[38;5;241m=\u001b[39m model\u001b[38;5;241m.\u001b[39mget_topics()\n",
      "File \u001b[1;32mF:\\Anaconda1\\Lib\\site-packages\\top2vec\\Top2Vec.py:608\u001b[0m, in \u001b[0;36mTop2Vec.__init__\u001b[1;34m(self, documents, min_count, topic_merge_delta, ngram_vocab, ngram_vocab_args, embedding_model, embedding_model_path, embedding_batch_size, split_documents, document_chunker, chunk_length, max_num_chunks, chunk_overlap_ratio, chunk_len_coverage_ratio, sentencizer, speed, use_corpus_file, document_ids, keep_documents, workers, tokenizer, use_embedding_model_tokenizer, umap_args, gpu_umap, hdbscan_args, gpu_hdbscan, index_topics, verbose)\u001b[0m\n\u001b[0;32m    605\u001b[0m \u001b[38;5;28mself\u001b[39m\u001b[38;5;241m.\u001b[39membed \u001b[38;5;241m=\u001b[39m \u001b[38;5;28;01mNone\u001b[39;00m\n\u001b[0;32m    606\u001b[0m \u001b[38;5;28mself\u001b[39m\u001b[38;5;241m.\u001b[39membedding_model \u001b[38;5;241m=\u001b[39m embedding_model\n\u001b[1;32m--> 608\u001b[0m \u001b[38;5;28mself\u001b[39m\u001b[38;5;241m.\u001b[39m_check_import_status()\n\u001b[0;32m    610\u001b[0m logger\u001b[38;5;241m.\u001b[39minfo(\u001b[38;5;124m'\u001b[39m\u001b[38;5;124mPre-processing documents for training\u001b[39m\u001b[38;5;124m'\u001b[39m)\n\u001b[0;32m    612\u001b[0m \u001b[38;5;66;03m# preprocess documents\u001b[39;00m\n",
      "File \u001b[1;32mF:\\Anaconda1\\Lib\\site-packages\\top2vec\\Top2Vec.py:1134\u001b[0m, in \u001b[0;36mTop2Vec._check_import_status\u001b[1;34m(self)\u001b[0m\n\u001b[0;32m   1132\u001b[0m \u001b[38;5;28;01mif\u001b[39;00m \u001b[38;5;28mself\u001b[39m\u001b[38;5;241m.\u001b[39membedding_model \u001b[38;5;129;01min\u001b[39;00m use_models:\n\u001b[0;32m   1133\u001b[0m     \u001b[38;5;28;01mif\u001b[39;00m \u001b[38;5;129;01mnot\u001b[39;00m _HAVE_TENSORFLOW:\n\u001b[1;32m-> 1134\u001b[0m         \u001b[38;5;28;01mraise\u001b[39;00m \u001b[38;5;167;01mImportError\u001b[39;00m(\u001b[38;5;124mf\u001b[39m\u001b[38;5;124m\"\u001b[39m\u001b[38;5;132;01m{\u001b[39;00m\u001b[38;5;28mself\u001b[39m\u001b[38;5;241m.\u001b[39membedding_model\u001b[38;5;132;01m}\u001b[39;00m\u001b[38;5;124m is not available.\u001b[39m\u001b[38;5;130;01m\\n\u001b[39;00m\u001b[38;5;130;01m\\n\u001b[39;00m\u001b[38;5;124m\"\u001b[39m\n\u001b[0;32m   1135\u001b[0m                           \u001b[38;5;124m\"\u001b[39m\u001b[38;5;124mTry: pip install top2vec[sentence_encoders]\u001b[39m\u001b[38;5;130;01m\\n\u001b[39;00m\u001b[38;5;130;01m\\n\u001b[39;00m\u001b[38;5;124m\"\u001b[39m\n\u001b[0;32m   1136\u001b[0m                           \u001b[38;5;124m\"\u001b[39m\u001b[38;5;124mAlternatively try: pip install tensorflow tensorflow_hub tensorflow_text\u001b[39m\u001b[38;5;124m\"\u001b[39m)\n\u001b[0;32m   1137\u001b[0m \u001b[38;5;28;01melif\u001b[39;00m \u001b[38;5;28mself\u001b[39m\u001b[38;5;241m.\u001b[39membedding_model \u001b[38;5;129;01min\u001b[39;00m sbert_models:\n\u001b[0;32m   1138\u001b[0m     \u001b[38;5;28;01mif\u001b[39;00m \u001b[38;5;129;01mnot\u001b[39;00m _HAVE_TORCH:\n",
      "\u001b[1;31mImportError\u001b[0m: universal-sentence-encoder-multilingual is not available.\n\nTry: pip install top2vec[sentence_encoders]\n\nAlternatively try: pip install tensorflow tensorflow_hub tensorflow_text"
     ]
    }
   ],
   "source": [
    "from top2vec import Top2Vec\n",
    "\n",
    "# Example documents\n",
    "documents = [\n",
    "    \"I love programming in Python. Python is a great language for data science.\",\n",
    "    \"JavaScript is widely used for web development.\",\n",
    "    \"Machine learning and artificial intelligence are important fields in data science.\",\n",
    "    \"The stock market is influenced by various economic factors.\",\n",
    "    \"Deep learning is a subset of machine learning involving neural networks.\",\n",
    "]\n",
    "\n",
    "# Create a Top2Vec model\n",
    "model = Top2Vec(documents, speed=\"fast-learn\", workers=4)\n",
    "\n",
    "# Get the topics\n",
    "topics = model.get_topics()\n",
    "\n",
    "for topic in topics:\n",
    "    print(f\"Topic ID: {topic[0]}\")\n",
    "    print(f\"Words: {topic[1]}\")\n",
    "    print(f\"Word Scores: {topic[2]}\")\n",
    "    print()\n",
    "\n",
    "# Find similar documents\n",
    "doc_id = 0\n",
    "similar_docs, scores = model.similar_documents(doc_id)\n",
    "\n",
    "print(f\"Documents similar to document ID {doc_id}:\")\n",
    "for sim_doc, score in zip(similar_docs, scores):\n",
    "    print(f\"Document ID: {sim_doc}, Similarity Score: {score}\")\n"
   ]
  },
  {
   "cell_type": "code",
   "execution_count": 10,
   "id": "9c7bdff4-a68f-4d84-86d0-c39b9592a045",
   "metadata": {},
   "outputs": [],
   "source": [
    "import sentence_transformers"
   ]
  },
  {
   "cell_type": "code",
   "execution_count": null,
   "id": "33803699-0c0d-47b0-b86a-b984f0884398",
   "metadata": {},
   "outputs": [],
   "source": []
  }
 ],
 "metadata": {
  "kernelspec": {
   "display_name": "Python 3 (ipykernel)",
   "language": "python",
   "name": "python3"
  },
  "language_info": {
   "codemirror_mode": {
    "name": "ipython",
    "version": 3
   },
   "file_extension": ".py",
   "mimetype": "text/x-python",
   "name": "python",
   "nbconvert_exporter": "python",
   "pygments_lexer": "ipython3",
   "version": "3.8.19"
  }
 },
 "nbformat": 4,
 "nbformat_minor": 5
}
