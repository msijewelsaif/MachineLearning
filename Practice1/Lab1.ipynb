{
 "cells": [
  {
   "cell_type": "code",
   "execution_count": 5,
   "id": "8a48ac9f-799e-4d75-96ac-45ede73cd128",
   "metadata": {},
   "outputs": [
    {
     "name": "stdout",
     "output_type": "stream",
     "text": [
      "array('i', [1, 2, 3])\n"
     ]
    }
   ],
   "source": [
    "import array as arr\n",
    "#creating array with intger type\n",
    "a=arr.array('i',[1,2,3])\n",
    "print(a)"
   ]
  },
  {
   "cell_type": "code",
   "execution_count": 6,
   "id": "dc342319-89e8-4163-ae9c-d403d3ff6c4f",
   "metadata": {},
   "outputs": [
    {
     "name": "stdout",
     "output_type": "stream",
     "text": [
      "array('d', [1.2, 3.0, 4.2])\n"
     ]
    }
   ],
   "source": [
    "#creating array with float\n",
    "b=arr.array('d',[1.2,3,4.2])\n",
    "\n",
    "print(b)"
   ]
  },
  {
   "cell_type": "code",
   "execution_count": 7,
   "id": "a623208e-5e63-45c2-bf42-11a79ccc8fb6",
   "metadata": {},
   "outputs": [
    {
     "data": {
      "text/plain": [
       "array([1, 2, 3, 4, 5])"
      ]
     },
     "execution_count": 7,
     "metadata": {},
     "output_type": "execute_result"
    }
   ],
   "source": [
    "import numpy as np\n",
    "\n",
    "a=np.array([1,2,3,4,5])\n",
    "a\n"
   ]
  },
  {
   "cell_type": "code",
   "execution_count": 8,
   "id": "0c251a62-ca20-4b99-b9b2-77dc4870570c",
   "metadata": {},
   "outputs": [
    {
     "data": {
      "text/plain": [
       "array([1. , 2. , 3.9, 4. , 5.1])"
      ]
     },
     "execution_count": 8,
     "metadata": {},
     "output_type": "execute_result"
    }
   ],
   "source": [
    "b=np.array([1,2,3.9,4,5.1])\n",
    "b"
   ]
  },
  {
   "cell_type": "code",
   "execution_count": 9,
   "id": "6a9a7cde-8c0b-4011-985e-dd90b14ef26f",
   "metadata": {},
   "outputs": [
    {
     "data": {
      "text/plain": [
       "array([1., 2., 3., 5.])"
      ]
     },
     "execution_count": 9,
     "metadata": {},
     "output_type": "execute_result"
    }
   ],
   "source": [
    "c=np.array([1,2,3,5] ,dtype='float')\n",
    "c"
   ]
  },
  {
   "cell_type": "code",
   "execution_count": 10,
   "id": "3050f9c6-cecd-4377-8bca-37568a51c42c",
   "metadata": {},
   "outputs": [
    {
     "data": {
      "text/plain": [
       "array([[2, 3, 4],\n",
       "       [3, 4, 5],\n",
       "       [4, 5, 6]])"
      ]
     },
     "execution_count": 10,
     "metadata": {},
     "output_type": "execute_result"
    }
   ],
   "source": [
    "#nested list in multidimensional array\n",
    "np.array([range(i,i+3)for i in [2,3,4]])\n"
   ]
  },
  {
   "cell_type": "code",
   "execution_count": 12,
   "id": "953824fd-7848-437c-a2bb-fe57f5fda078",
   "metadata": {},
   "outputs": [
    {
     "name": "stdin",
     "output_type": "stream",
     "text": [
      "Enter the size of array = 5\n",
      "enter the number = 1\n",
      "enter the number = 2\n",
      "enter the number = 3\n",
      "enter the number = 4\n",
      "enter the number = 5\n"
     ]
    },
    {
     "data": {
      "text/plain": [
       "array([1, 2, 3, 4, 5])"
      ]
     },
     "execution_count": 12,
     "metadata": {},
     "output_type": "execute_result"
    }
   ],
   "source": [
    "a=[]\n",
    "n=int(input(\"Enter the size of array =\"))\n",
    "for i in range(n):\n",
    "    val=int(input(\"enter the number =\"))\n",
    "    a.append(val)\n",
    "\n",
    "myarray=np.array(a)\n",
    "myarray"
   ]
  },
  {
   "cell_type": "code",
   "execution_count": 13,
   "id": "8ec89095-9d13-46b3-9bca-3493083a083a",
   "metadata": {},
   "outputs": [
    {
     "name": "stdout",
     "output_type": "stream",
     "text": [
      "[[1 2 3]\n",
      " [4 5 6]\n",
      " [7 8 9]]\n"
     ]
    }
   ],
   "source": [
    "#two dimensional array\n",
    "a=[[1,2,3],[4,5,6],[7,8,9]]\n",
    "myarray=np.array(a)\n",
    "print(myarray)\n"
   ]
  },
  {
   "cell_type": "code",
   "execution_count": 22,
   "id": "eadd2701-529d-4953-957a-65833fcb0045",
   "metadata": {},
   "outputs": [
    {
     "name": "stdout",
     "output_type": "stream",
     "text": [
      "[[ 1  2  3]\n",
      " [10 11 12]\n",
      " [ 5  6  7]]\n"
     ]
    }
   ],
   "source": [
    "array1=np.array([[1,2,3],[10,11,12],[5,6,7]])\n",
    "print(array1)"
   ]
  },
  {
   "cell_type": "code",
   "execution_count": 14,
   "id": "e320b905-858d-4d5a-a422-b86708fd6574",
   "metadata": {},
   "outputs": [
    {
     "name": "stdout",
     "output_type": "stream",
     "text": [
      "[[10 11 12]\n",
      " [14 15 16]\n",
      " [17 18 19]]\n",
      "Dimension of array= 2\n",
      "Shape of array= (3, 3)\n"
     ]
    }
   ],
   "source": [
    "myarray=np.array([[10,11,12],[14,15,16],[17,18,19]])\n",
    "print(myarray)\n",
    "print(\"Dimension of array=\",myarray.ndim)\n",
    "print(\"Shape of array=\",myarray.shape)"
   ]
  },
  {
   "cell_type": "code",
   "execution_count": 15,
   "id": "1deb648d-2a9d-4acc-be6e-68a4e630a7ec",
   "metadata": {},
   "outputs": [
    {
     "data": {
      "text/plain": [
       "array([0, 0, 0, 0, 0, 0, 0, 0, 0, 0])"
      ]
     },
     "execution_count": 15,
     "metadata": {},
     "output_type": "execute_result"
    }
   ],
   "source": [
    "np.zeros(10,dtype='int')"
   ]
  },
  {
   "cell_type": "code",
   "execution_count": 16,
   "id": "734b0aa5-e3f8-41fb-be39-304ab7e75fa1",
   "metadata": {},
   "outputs": [
    {
     "data": {
      "text/plain": [
       "array([[0., 0., 0.],\n",
       "       [0., 0., 0.]])"
      ]
     },
     "execution_count": 16,
     "metadata": {},
     "output_type": "execute_result"
    }
   ],
   "source": [
    "np.zeros((2,3),dtype='float')"
   ]
  },
  {
   "cell_type": "code",
   "execution_count": 17,
   "id": "e1cf0c23-a989-4096-8d45-989f77d024dd",
   "metadata": {},
   "outputs": [
    {
     "data": {
      "text/plain": [
       "array([1, 1, 1, 1, 1, 1, 1, 1, 1, 1])"
      ]
     },
     "execution_count": 17,
     "metadata": {},
     "output_type": "execute_result"
    }
   ],
   "source": [
    "np.ones(10,dtype='int')"
   ]
  },
  {
   "cell_type": "code",
   "execution_count": 18,
   "id": "d7e87dde-b55c-446e-a7bb-951215f745b1",
   "metadata": {},
   "outputs": [
    {
     "data": {
      "text/plain": [
       "array([[1., 1., 1.],\n",
       "       [1., 1., 1.],\n",
       "       [1., 1., 1.]])"
      ]
     },
     "execution_count": 18,
     "metadata": {},
     "output_type": "execute_result"
    }
   ],
   "source": [
    "np.ones((3,3),dtype='float')"
   ]
  },
  {
   "cell_type": "code",
   "execution_count": 19,
   "id": "070aab1d-e841-41ba-aa41-b40cd5c8b041",
   "metadata": {},
   "outputs": [
    {
     "data": {
      "text/plain": [
       "array([0., 0., 0., 0., 0., 0.])"
      ]
     },
     "execution_count": 19,
     "metadata": {},
     "output_type": "execute_result"
    }
   ],
   "source": [
    "np.empty(6)"
   ]
  },
  {
   "cell_type": "code",
   "execution_count": 20,
   "id": "f7973fd2-9265-4332-99ac-65baeca8e709",
   "metadata": {},
   "outputs": [
    {
     "data": {
      "text/plain": [
       "array([[1., 1., 1.],\n",
       "       [1., 1., 1.],\n",
       "       [1., 1., 1.]])"
      ]
     },
     "execution_count": 20,
     "metadata": {},
     "output_type": "execute_result"
    }
   ],
   "source": [
    "np.empty([3,3])"
   ]
  },
  {
   "cell_type": "code",
   "execution_count": 21,
   "id": "c0da030d-4add-4a12-bec9-08fcf465c51f",
   "metadata": {},
   "outputs": [
    {
     "data": {
      "text/plain": [
       "array([  1.  ,  25.75,  50.5 ,  75.25, 100.  ])"
      ]
     },
     "execution_count": 21,
     "metadata": {},
     "output_type": "execute_result"
    }
   ],
   "source": [
    "np.linspace(1,100,5)"
   ]
  },
  {
   "cell_type": "code",
   "execution_count": 22,
   "id": "166e61b9-56c7-4ecd-a5db-6674daf14627",
   "metadata": {},
   "outputs": [
    {
     "data": {
      "text/plain": [
       "array([ 1. , 20.8, 40.6, 60.4, 80.2])"
      ]
     },
     "execution_count": 22,
     "metadata": {},
     "output_type": "execute_result"
    }
   ],
   "source": [
    "np.linspace(1,100,5,endpoint=False)"
   ]
  },
  {
   "cell_type": "code",
   "execution_count": 23,
   "id": "89af0474-b89a-4a97-ab91-c08237a98f75",
   "metadata": {},
   "outputs": [
    {
     "name": "stdout",
     "output_type": "stream",
     "text": [
      "[ 1 20 40 60 80]\n"
     ]
    }
   ],
   "source": [
    "result = np.linspace(1, 100, 5, endpoint=False, dtype=int)\n",
    "print(result)"
   ]
  },
  {
   "cell_type": "code",
   "execution_count": 24,
   "id": "7ca6ece7-036a-4674-941e-8a038ac37cea",
   "metadata": {},
   "outputs": [
    {
     "data": {
      "text/plain": [
       "array([[1., 0., 0.],\n",
       "       [0., 1., 0.],\n",
       "       [0., 0., 1.]])"
      ]
     },
     "execution_count": 24,
     "metadata": {},
     "output_type": "execute_result"
    }
   ],
   "source": [
    "np.eye(3)"
   ]
  },
  {
   "cell_type": "code",
   "execution_count": 25,
   "id": "795acaef-ab68-464a-8eb7-84f5310f035d",
   "metadata": {},
   "outputs": [
    {
     "data": {
      "text/plain": [
       "array([[1., 0., 0.],\n",
       "       [0., 1., 0.]])"
      ]
     },
     "execution_count": 25,
     "metadata": {},
     "output_type": "execute_result"
    }
   ],
   "source": [
    "np.eye(2,3)"
   ]
  },
  {
   "cell_type": "code",
   "execution_count": 26,
   "id": "f70b5eb6-3e7f-43b1-b915-1c91a4004b0b",
   "metadata": {},
   "outputs": [
    {
     "data": {
      "text/plain": [
       "array([[1., 0., 0., 0.],\n",
       "       [0., 1., 0., 0.],\n",
       "       [0., 0., 1., 0.]])"
      ]
     },
     "execution_count": 26,
     "metadata": {},
     "output_type": "execute_result"
    }
   ],
   "source": [
    "np.eye(3,4)"
   ]
  },
  {
   "cell_type": "code",
   "execution_count": 27,
   "id": "f5c195fd-8427-4ba5-8b6e-c4e12e5e7002",
   "metadata": {},
   "outputs": [
    {
     "data": {
      "text/plain": [
       "array([[3.14161, 3.14161, 3.14161, 3.14161],\n",
       "       [3.14161, 3.14161, 3.14161, 3.14161],\n",
       "       [3.14161, 3.14161, 3.14161, 3.14161]])"
      ]
     },
     "execution_count": 27,
     "metadata": {},
     "output_type": "execute_result"
    }
   ],
   "source": [
    "np.full((3,4),3.14161)"
   ]
  },
  {
   "cell_type": "code",
   "execution_count": 28,
   "id": "d9d1c418-2361-4093-8da8-04437f953b79",
   "metadata": {},
   "outputs": [
    {
     "data": {
      "text/plain": [
       "array([[1, 0, 0, 0, 0],\n",
       "       [0, 2, 0, 0, 0],\n",
       "       [0, 0, 3, 0, 0],\n",
       "       [0, 0, 0, 4, 0],\n",
       "       [0, 0, 0, 0, 5]])"
      ]
     },
     "execution_count": 28,
     "metadata": {},
     "output_type": "execute_result"
    }
   ],
   "source": [
    "a=np.diag([1,2,3,4,5])\n",
    "a"
   ]
  },
  {
   "cell_type": "code",
   "execution_count": 29,
   "id": "a5f56084-9622-4d02-b440-2f96474681ba",
   "metadata": {},
   "outputs": [
    {
     "data": {
      "text/plain": [
       "array([[3, 6, 5],\n",
       "       [7, 5, 4],\n",
       "       [5, 1, 1]])"
      ]
     },
     "execution_count": 29,
     "metadata": {},
     "output_type": "execute_result"
    }
   ],
   "source": [
    "np.random.randint(0,10,(3,3))"
   ]
  },
  {
   "cell_type": "code",
   "execution_count": 30,
   "id": "acfd2bf9-1cc4-46d7-b0d5-0c54386865c7",
   "metadata": {},
   "outputs": [
    {
     "data": {
      "text/plain": [
       "array([[0.23700776, 0.70124841, 0.51005907],\n",
       "       [0.62564797, 0.24017478, 0.16070348],\n",
       "       [0.39303709, 0.71998812, 0.10992174]])"
      ]
     },
     "execution_count": 30,
     "metadata": {},
     "output_type": "execute_result"
    }
   ],
   "source": [
    "np.random.random((3,3))"
   ]
  },
  {
   "cell_type": "code",
   "execution_count": 31,
   "id": "afc46bb8-453e-46e8-a01b-7979ad206d1c",
   "metadata": {},
   "outputs": [
    {
     "data": {
      "text/plain": [
       "array([[-0.09862306, -0.09826741, -2.50913761],\n",
       "       [-0.5394509 ,  1.15803049,  0.32097469],\n",
       "       [ 2.15084643,  1.55303311,  0.91297627]])"
      ]
     },
     "execution_count": 31,
     "metadata": {},
     "output_type": "execute_result"
    }
   ],
   "source": [
    "np.random.normal(0,1,(3,3))"
   ]
  },
  {
   "cell_type": "code",
   "execution_count": 32,
   "id": "b3105d03-a6c4-40f9-9323-23d4b60daf01",
   "metadata": {},
   "outputs": [
    {
     "data": {
      "text/plain": [
       "array([46, 14,  5,  3,  9, 19, 35, 48, 33, 16, 42, 22])"
      ]
     },
     "execution_count": 32,
     "metadata": {},
     "output_type": "execute_result"
    }
   ],
   "source": [
    "a=np.random.randint(1,50,12)\n",
    "a"
   ]
  },
  {
   "cell_type": "code",
   "execution_count": 33,
   "id": "80ed4783-f6a5-4a07-8f21-c8c5f09711a9",
   "metadata": {},
   "outputs": [],
   "source": [
    "x1=np.random.randint(10, size=6)\n",
    "x2=np.random.randint(10,size=(3,4))\n",
    "x3=np.random.randint(10,size=(3,3,3))\n",
    "\n"
   ]
  },
  {
   "cell_type": "code",
   "execution_count": 34,
   "id": "0d67f724-f7e3-4e3c-96f7-c2b409e15d93",
   "metadata": {},
   "outputs": [
    {
     "name": "stdout",
     "output_type": "stream",
     "text": [
      "x3.ndim= 3\n",
      "x3.shape= (3, 3, 3)\n",
      "x3.size= 27\n"
     ]
    }
   ],
   "source": [
    "print(\"x3.ndim=\",x3.ndim)\n",
    "print(\"x3.shape=\",x3.shape)\n",
    "print(\"x3.size=\",x3.size)"
   ]
  },
  {
   "cell_type": "code",
   "execution_count": 35,
   "id": "0baef2fa-66b7-4020-925e-662c581a41fe",
   "metadata": {},
   "outputs": [
    {
     "name": "stdout",
     "output_type": "stream",
     "text": [
      "dtype= int32\n"
     ]
    }
   ],
   "source": [
    "print(\"dtype=\",x3.dtype)"
   ]
  },
  {
   "cell_type": "code",
   "execution_count": 36,
   "id": "e3a4df27-c723-47f0-accb-0dde79fc238b",
   "metadata": {},
   "outputs": [
    {
     "name": "stdout",
     "output_type": "stream",
     "text": [
      "itemsize= 4 bytes\n",
      "nbytes= 108 bytes\n"
     ]
    }
   ],
   "source": [
    "print(\"itemsize=\",x3.itemsize,\"bytes\")\n",
    "print(\"nbytes=\",x3.nbytes,\"bytes\")"
   ]
  },
  {
   "cell_type": "code",
   "execution_count": 37,
   "id": "fd4e6d5d-b0d2-4594-a7e4-6016fd2972a2",
   "metadata": {},
   "outputs": [
    {
     "name": "stdout",
     "output_type": "stream",
     "text": [
      "[7 9 3 0 3 1]\n"
     ]
    }
   ],
   "source": [
    "x1=np.random.randint(10, size=6)\n",
    "\n",
    "print(x1)"
   ]
  },
  {
   "cell_type": "code",
   "execution_count": 40,
   "id": "a5f768da-8c60-47f8-b758-3cb92ff84118",
   "metadata": {},
   "outputs": [
    {
     "data": {
      "text/plain": [
       "7"
      ]
     },
     "execution_count": 40,
     "metadata": {},
     "output_type": "execute_result"
    }
   ],
   "source": [
    "#indexing\n",
    "x1[0]"
   ]
  },
  {
   "cell_type": "code",
   "execution_count": 42,
   "id": "8af508f3-5e14-4f7d-8ad9-c16d731da3d8",
   "metadata": {},
   "outputs": [
    {
     "name": "stdin",
     "output_type": "stream",
     "text": [
      "Array Size:  5\n",
      "Enter Numbers:  2\n",
      "Enter Numbers:  10\n",
      "Enter Numbers:  1\n",
      "Enter Numbers:  7\n",
      "Enter Numbers:  9\n"
     ]
    },
    {
     "name": "stdout",
     "output_type": "stream",
     "text": [
      "List = [2, 10, 1, 7, 9]\n",
      "Numpy Array = 2 10 1 7 9 \n",
      "Sum of elements = 29\n"
     ]
    }
   ],
   "source": [
    "import numpy as np\n",
    "\n",
    "a = []\n",
    "size = int(input(\"Array Size: \"))\n",
    "\n",
    "for i in range(size):\n",
    "    val = int(input(\"Enter Numbers: \"))\n",
    "    a.append(val)\n",
    "print(\"List =\", a)\n",
    "\n",
    "myarray = np.array(a)\n",
    "print(\"Numpy Array =\", end=\" \")\n",
    "for i in range(myarray.size):\n",
    "    print(myarray[i], end=\" \")\n",
    "\n",
    "sum = 0\n",
    "for i in range(myarray.size):\n",
    "    sum += myarray[i]\n",
    "print(\"\\nSum of elements =\", sum)\n"
   ]
  },
  {
   "cell_type": "code",
   "execution_count": 45,
   "id": "0d70b4d2-9a42-428b-b411-937437e1f6a1",
   "metadata": {},
   "outputs": [
    {
     "name": "stdout",
     "output_type": "stream",
     "text": [
      "[0 1 2 3 4 5 6 7 8 9]\n"
     ]
    }
   ],
   "source": [
    "#array slicing \n",
    "x=np.arange(10)\n",
    "print(x)"
   ]
  },
  {
   "cell_type": "code",
   "execution_count": 46,
   "id": "8867b0d3-e000-4486-95ca-c131b15f0431",
   "metadata": {},
   "outputs": [
    {
     "data": {
      "text/plain": [
       "array([0, 1, 2, 3, 4])"
      ]
     },
     "execution_count": 46,
     "metadata": {},
     "output_type": "execute_result"
    }
   ],
   "source": [
    "x[0:5]"
   ]
  },
  {
   "cell_type": "code",
   "execution_count": 47,
   "id": "fe8c7f2f-1e1d-4647-a93b-49351c9b5d6e",
   "metadata": {},
   "outputs": [
    {
     "data": {
      "text/plain": [
       "array([0, 1, 2, 3, 4])"
      ]
     },
     "execution_count": 47,
     "metadata": {},
     "output_type": "execute_result"
    }
   ],
   "source": [
    "x[:5]"
   ]
  },
  {
   "cell_type": "code",
   "execution_count": 48,
   "id": "27ea3312-d310-46d1-8d77-23165a55c22a",
   "metadata": {},
   "outputs": [
    {
     "data": {
      "text/plain": [
       "array([5, 6, 7, 8, 9])"
      ]
     },
     "execution_count": 48,
     "metadata": {},
     "output_type": "execute_result"
    }
   ],
   "source": [
    "x[5:]"
   ]
  },
  {
   "cell_type": "code",
   "execution_count": 49,
   "id": "362c0fa0-c509-4b3b-b720-95a170e14ab8",
   "metadata": {},
   "outputs": [
    {
     "data": {
      "text/plain": [
       "array([5, 6, 7])"
      ]
     },
     "execution_count": 49,
     "metadata": {},
     "output_type": "execute_result"
    }
   ],
   "source": [
    "x[5:8]"
   ]
  },
  {
   "cell_type": "code",
   "execution_count": 50,
   "id": "7b345351-e218-4a25-9601-eca0aa1527dd",
   "metadata": {},
   "outputs": [
    {
     "data": {
      "text/plain": [
       "array([0, 2, 4, 6, 8])"
      ]
     },
     "execution_count": 50,
     "metadata": {},
     "output_type": "execute_result"
    }
   ],
   "source": [
    "x[::2]"
   ]
  },
  {
   "cell_type": "code",
   "execution_count": 51,
   "id": "51b2b021-6d1c-449d-8707-31d2a7572763",
   "metadata": {},
   "outputs": [
    {
     "data": {
      "text/plain": [
       "array([1, 2, 3, 4, 5, 6, 7, 8, 9])"
      ]
     },
     "execution_count": 51,
     "metadata": {},
     "output_type": "execute_result"
    }
   ],
   "source": [
    "x[1::]"
   ]
  },
  {
   "cell_type": "code",
   "execution_count": 52,
   "id": "41c748eb-7636-48de-b59e-6a6589cfd479",
   "metadata": {},
   "outputs": [
    {
     "data": {
      "text/plain": [
       "array([9, 8, 7, 6, 5, 4, 3, 2, 1, 0])"
      ]
     },
     "execution_count": 52,
     "metadata": {},
     "output_type": "execute_result"
    }
   ],
   "source": [
    "x[::-1]"
   ]
  },
  {
   "cell_type": "code",
   "execution_count": 53,
   "id": "49d100c3-0939-4f2c-93c0-5e8a46b0a210",
   "metadata": {},
   "outputs": [
    {
     "data": {
      "text/plain": [
       "array([5, 4, 3, 2, 1, 0])"
      ]
     },
     "execution_count": 53,
     "metadata": {},
     "output_type": "execute_result"
    }
   ],
   "source": [
    "x[5::-1]"
   ]
  },
  {
   "cell_type": "code",
   "execution_count": 55,
   "id": "8d25e703-569a-47b9-9522-f68ec70eacd8",
   "metadata": {},
   "outputs": [
    {
     "name": "stdout",
     "output_type": "stream",
     "text": [
      "[[9 0 4]\n",
      " [8 9 7]\n",
      " [0 5 8]]\n"
     ]
    }
   ],
   "source": [
    "#multidimensional array slicing\n",
    "x=np.random.randint(0,10,(3,3))\n",
    "print(x)"
   ]
  },
  {
   "cell_type": "code",
   "execution_count": 56,
   "id": "4be9c917-cfe6-405d-bdc6-80ab1d5d24dc",
   "metadata": {},
   "outputs": [
    {
     "data": {
      "text/plain": [
       "array([[9, 0, 4],\n",
       "       [8, 9, 7]])"
      ]
     },
     "execution_count": 56,
     "metadata": {},
     "output_type": "execute_result"
    }
   ],
   "source": [
    "x[:2,:3]"
   ]
  },
  {
   "cell_type": "code",
   "execution_count": 57,
   "id": "1e6b6a3d-1ae3-44c7-b442-9bfd8b0c4e5f",
   "metadata": {},
   "outputs": [
    {
     "data": {
      "text/plain": [
       "array([[9, 0],\n",
       "       [8, 9],\n",
       "       [0, 5]])"
      ]
     },
     "execution_count": 57,
     "metadata": {},
     "output_type": "execute_result"
    }
   ],
   "source": [
    "x[:3,:2]"
   ]
  },
  {
   "cell_type": "code",
   "execution_count": 58,
   "id": "fe46ea41-77fc-47d2-8dd9-df45ffee29cf",
   "metadata": {},
   "outputs": [
    {
     "data": {
      "text/plain": [
       "array([[8, 5, 0],\n",
       "       [7, 9, 8],\n",
       "       [4, 0, 9]])"
      ]
     },
     "execution_count": 58,
     "metadata": {},
     "output_type": "execute_result"
    }
   ],
   "source": [
    "x[::-1,::-1]"
   ]
  },
  {
   "cell_type": "code",
   "execution_count": 59,
   "id": "2f907a27-d13d-48fa-a133-364c85846123",
   "metadata": {},
   "outputs": [
    {
     "data": {
      "text/plain": [
       "array([9, 8, 0])"
      ]
     },
     "execution_count": 59,
     "metadata": {},
     "output_type": "execute_result"
    }
   ],
   "source": [
    "x[:,0]"
   ]
  },
  {
   "cell_type": "code",
   "execution_count": 60,
   "id": "a5820285-4cd2-4d9b-82e4-d905d3de47c0",
   "metadata": {},
   "outputs": [
    {
     "data": {
      "text/plain": [
       "array([9, 0, 4])"
      ]
     },
     "execution_count": 60,
     "metadata": {},
     "output_type": "execute_result"
    }
   ],
   "source": [
    "x[0,:]"
   ]
  },
  {
   "cell_type": "code",
   "execution_count": 61,
   "id": "85100fa8-65b8-4af9-b89d-64b4d46bc502",
   "metadata": {},
   "outputs": [
    {
     "data": {
      "text/plain": [
       "array([[341, 365, 469, 213,  87],\n",
       "       [276, 170, 323, 119, 467],\n",
       "       [297, 456, 442,   8, 269],\n",
       "       [267, 450, 369, 217, 285],\n",
       "       [271, 419,  22,  55, 201],\n",
       "       [ 38, 461, 231, 187, 269]])"
      ]
     },
     "execution_count": 61,
     "metadata": {},
     "output_type": "execute_result"
    }
   ],
   "source": [
    "np.random.seed(111)\n",
    "a = np.random.randint(1, 500, 30).reshape(6, 5)\n",
    "a"
   ]
  },
  {
   "cell_type": "code",
   "execution_count": 62,
   "id": "47defdee-f31d-4c7d-ac34-4d55f0f5b2cb",
   "metadata": {},
   "outputs": [
    {
     "data": {
      "text/plain": [
       "array([[297, 456, 442,   8, 269],\n",
       "       [267, 450, 369, 217, 285],\n",
       "       [271, 419,  22,  55, 201],\n",
       "       [ 38, 461, 231, 187, 269]])"
      ]
     },
     "execution_count": 62,
     "metadata": {},
     "output_type": "execute_result"
    }
   ],
   "source": [
    "a[2:]"
   ]
  },
  {
   "cell_type": "code",
   "execution_count": 64,
   "id": "da337063-1b4d-44b2-8214-b8e835af01c5",
   "metadata": {},
   "outputs": [
    {
     "data": {
      "text/plain": [
       "array([[442,   8, 269],\n",
       "       [369, 217, 285],\n",
       "       [ 22,  55, 201],\n",
       "       [231, 187, 269]])"
      ]
     },
     "execution_count": 64,
     "metadata": {},
     "output_type": "execute_result"
    }
   ],
   "source": [
    "a[2:,2:]"
   ]
  },
  {
   "cell_type": "code",
   "execution_count": 65,
   "id": "55ad3157-4388-4ed8-8aa3-bc1befeaf0c6",
   "metadata": {},
   "outputs": [
    {
     "name": "stdout",
     "output_type": "stream",
     "text": [
      "[[1 2 3]\n",
      " [4 5 6]\n",
      " [7 8 9]]\n"
     ]
    }
   ],
   "source": [
    "grid = np.arange(1, 10).reshape((3, 3))\n",
    "print(grid)\n"
   ]
  },
  {
   "cell_type": "code",
   "execution_count": 67,
   "id": "09381bcd-1e33-455f-a3ec-bbe1be43962c",
   "metadata": {},
   "outputs": [
    {
     "data": {
      "text/plain": [
       "array([[1, 2, 3]])"
      ]
     },
     "execution_count": 67,
     "metadata": {},
     "output_type": "execute_result"
    }
   ],
   "source": [
    "x=np.array([1,2,3])\n",
    "x.reshape(1,3)"
   ]
  },
  {
   "cell_type": "code",
   "execution_count": 68,
   "id": "5077771a-89ea-4524-b527-62653c084489",
   "metadata": {},
   "outputs": [
    {
     "data": {
      "text/plain": [
       "array([[1],\n",
       "       [2],\n",
       "       [3]])"
      ]
     },
     "execution_count": 68,
     "metadata": {},
     "output_type": "execute_result"
    }
   ],
   "source": [
    "x.reshape(3,1)"
   ]
  },
  {
   "cell_type": "code",
   "execution_count": 71,
   "id": "8b9a32aa-ce32-4253-89c6-c420633c95b4",
   "metadata": {},
   "outputs": [
    {
     "name": "stdout",
     "output_type": "stream",
     "text": [
      "array : [12 40 25 40 42 15 29  7 31 46 31 30]\n",
      "after reshaping 1D to 2D [[12 40 25 40]\n",
      " [42 15 29  7]\n",
      " [31 46 31 30]]\n"
     ]
    }
   ],
   "source": [
    "#reshapiang \n",
    "\n",
    "a=np.random.randint(1,50,12)\n",
    "print(\"array :\",a)\n",
    "b=a.reshape(3,4)\n",
    "print(\"after reshaping 1D to 2D\",b)"
   ]
  },
  {
   "cell_type": "code",
   "execution_count": 73,
   "id": "399f17bc-4678-41e3-833e-4288e17490f2",
   "metadata": {},
   "outputs": [
    {
     "data": {
      "text/plain": [
       "array([1, 2, 3, 3, 2, 1])"
      ]
     },
     "execution_count": 73,
     "metadata": {},
     "output_type": "execute_result"
    }
   ],
   "source": [
    "#concating array \n",
    "\n",
    "x1=np.array([1,2,3])\n",
    "x2=np.array([3,2,1])\n",
    "np.concatenate([x1,x2])"
   ]
  },
  {
   "cell_type": "code",
   "execution_count": 75,
   "id": "50650e24-4ae3-42eb-92b1-8d51a299acdb",
   "metadata": {},
   "outputs": [],
   "source": [
    "grid=np.array([[1,2,3],[4,5,6]])"
   ]
  },
  {
   "cell_type": "code",
   "execution_count": 76,
   "id": "0d540b0c-f1d0-4f65-a5b1-e319de2a2112",
   "metadata": {},
   "outputs": [
    {
     "data": {
      "text/plain": [
       "array([[1, 2, 3],\n",
       "       [4, 5, 6],\n",
       "       [1, 2, 3],\n",
       "       [4, 5, 6]])"
      ]
     },
     "execution_count": 76,
     "metadata": {},
     "output_type": "execute_result"
    }
   ],
   "source": [
    "np.concatenate([grid,grid])"
   ]
  },
  {
   "cell_type": "code",
   "execution_count": 77,
   "id": "f5a09f9c-adeb-4e2a-81cb-a9f62c6aa5d7",
   "metadata": {},
   "outputs": [
    {
     "data": {
      "text/plain": [
       "array([[1, 2, 3, 1, 2, 3],\n",
       "       [4, 5, 6, 4, 5, 6]])"
      ]
     },
     "execution_count": 77,
     "metadata": {},
     "output_type": "execute_result"
    }
   ],
   "source": [
    "np.concatenate([grid,grid],axis=1)"
   ]
  },
  {
   "cell_type": "code",
   "execution_count": 80,
   "id": "5697d80a-df40-49eb-8734-1bc784cbfe84",
   "metadata": {},
   "outputs": [
    {
     "data": {
      "text/plain": [
       "array([[1, 2, 3],\n",
       "       [4, 5, 6],\n",
       "       [1, 2, 3],\n",
       "       [4, 5, 6]])"
      ]
     },
     "execution_count": 80,
     "metadata": {},
     "output_type": "execute_result"
    }
   ],
   "source": [
    "np.concatenate([grid,grid],axis=0)"
   ]
  },
  {
   "cell_type": "code",
   "execution_count": 83,
   "id": "7af30a26-e7a7-4daa-81db-93c87327ed9a",
   "metadata": {},
   "outputs": [
    {
     "data": {
      "text/plain": [
       "array([[1, 2, 3],\n",
       "       [9, 8, 7],\n",
       "       [6, 5, 4]])"
      ]
     },
     "execution_count": 83,
     "metadata": {},
     "output_type": "execute_result"
    }
   ],
   "source": [
    "#stack\n",
    "x=np.array([1,2,3])\n",
    "y=np.array([[9,8,7],[6,5,4]])\n",
    "np.vstack([x,y])\n"
   ]
  },
  {
   "cell_type": "code",
   "execution_count": 84,
   "id": "55832583-75c4-4c5e-bab6-3df4e6939c29",
   "metadata": {},
   "outputs": [
    {
     "name": "stdout",
     "output_type": "stream",
     "text": [
      "[1 2 3]\n",
      "[99 98]\n",
      "[3 2 1]\n"
     ]
    }
   ],
   "source": [
    "#splitting array\n",
    "\n",
    "x=[1,2,3,99,98,3,2,1]\n",
    "x1,x2,x3=np.split(x,[3,5])\n",
    "\n",
    "print(x1)\n",
    "print(x2)\n",
    "print(x3)"
   ]
  },
  {
   "cell_type": "code",
   "execution_count": 88,
   "id": "c88eebee-7da6-4cec-b494-678f3f1d4259",
   "metadata": {},
   "outputs": [
    {
     "data": {
      "text/plain": [
       "array([[ 0,  1,  2,  3],\n",
       "       [ 4,  5,  6,  7],\n",
       "       [ 8,  9, 10, 11],\n",
       "       [12, 13, 14, 15]])"
      ]
     },
     "execution_count": 88,
     "metadata": {},
     "output_type": "execute_result"
    }
   ],
   "source": [
    "grid=np.arange(16).reshape((4,4))\n",
    "grid"
   ]
  },
  {
   "cell_type": "code",
   "execution_count": 90,
   "id": "d70ad3ac-3ff4-41d2-bd57-8cb88ecff8d7",
   "metadata": {},
   "outputs": [],
   "source": [
    "up,down=np.vsplit(grid,[2])"
   ]
  },
  {
   "cell_type": "code",
   "execution_count": 92,
   "id": "57856985-1a0e-435d-bb7f-7552ea00f5f2",
   "metadata": {},
   "outputs": [
    {
     "name": "stdout",
     "output_type": "stream",
     "text": [
      "[[0 1 2 3]\n",
      " [4 5 6 7]]\n"
     ]
    }
   ],
   "source": [
    "print(up)"
   ]
  },
  {
   "cell_type": "code",
   "execution_count": 93,
   "id": "538c3c4f-c007-4f06-b181-42f8c8236466",
   "metadata": {},
   "outputs": [
    {
     "name": "stdout",
     "output_type": "stream",
     "text": [
      "[[ 8  9 10 11]\n",
      " [12 13 14 15]]\n"
     ]
    }
   ],
   "source": [
    "print(down)"
   ]
  },
  {
   "cell_type": "code",
   "execution_count": null,
   "id": "ad00a20c-b50d-4998-a59c-7dabddf4f928",
   "metadata": {},
   "outputs": [],
   "source": []
  }
 ],
 "metadata": {
  "kernelspec": {
   "display_name": "Python 3 (ipykernel)",
   "language": "python",
   "name": "python3"
  },
  "language_info": {
   "codemirror_mode": {
    "name": "ipython",
    "version": 3
   },
   "file_extension": ".py",
   "mimetype": "text/x-python",
   "name": "python",
   "nbconvert_exporter": "python",
   "pygments_lexer": "ipython3",
   "version": "3.8.19"
  }
 },
 "nbformat": 4,
 "nbformat_minor": 5
}
