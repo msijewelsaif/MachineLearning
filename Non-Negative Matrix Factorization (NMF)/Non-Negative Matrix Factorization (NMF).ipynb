{
 "cells": [
  {
   "cell_type": "code",
   "execution_count": 1,
   "id": "6b5995a0-42fe-4cf6-98ce-e338f67f079b",
   "metadata": {},
   "outputs": [
    {
     "name": "stderr",
     "output_type": "stream",
     "text": [
      "[nltk_data] Downloading package punkt to C:\\Users\\Md Saiful\n",
      "[nltk_data]     Islam\\AppData\\Roaming\\nltk_data...\n",
      "[nltk_data]   Package punkt is already up-to-date!\n",
      "[nltk_data] Downloading package stopwords to C:\\Users\\Md Saiful\n",
      "[nltk_data]     Islam\\AppData\\Roaming\\nltk_data...\n",
      "[nltk_data]   Package stopwords is already up-to-date!\n",
      "[nltk_data] Downloading package wordnet to C:\\Users\\Md Saiful\n",
      "[nltk_data]     Islam\\AppData\\Roaming\\nltk_data...\n",
      "[nltk_data]   Package wordnet is already up-to-date!\n"
     ]
    },
    {
     "data": {
      "text/plain": [
       "True"
      ]
     },
     "execution_count": 1,
     "metadata": {},
     "output_type": "execute_result"
    }
   ],
   "source": [
    "import numpy as np\n",
    "import pandas as pd\n",
    "from sklearn.feature_extraction.text import TfidfVectorizer\n",
    "from sklearn.decomposition import NMF\n",
    "from nltk.corpus import stopwords\n",
    "from nltk.tokenize import word_tokenize\n",
    "from nltk.stem import WordNetLemmatizer\n",
    "import nltk\n",
    "\n",
    "# Ensure NLTK resources are available\n",
    "nltk.download('punkt')\n",
    "nltk.download('stopwords')\n",
    "nltk.download('wordnet')"
   ]
  },
  {
   "cell_type": "code",
   "execution_count": 10,
   "id": "57bf586e-ba75-4ac5-8cbb-318ebac67875",
   "metadata": {},
   "outputs": [],
   "source": [
    "data= pd.read_csv('email.csv')"
   ]
  },
  {
   "cell_type": "code",
   "execution_count": 12,
   "id": "c422db22-5d50-4f50-b209-2df81ffa3b35",
   "metadata": {},
   "outputs": [],
   "source": [
    "# Preprocess text\n",
    "stop_words = set(stopwords.words('english'))\n",
    "lemmatizer = WordNetLemmatizer()\n",
    "\n",
    "def preprocess_text(text):\n",
    "    # Tokenize the text\n",
    "    words = word_tokenize(text.lower())\n",
    "    # Remove stop words and punctuation, and lemmatize\n",
    "    words = [lemmatizer.lemmatize(word) for word in words if word.isalpha() and word not in stop_words]\n",
    "    return ' '.join(words)\n",
    "\n",
    "# Apply preprocessing\n",
    "data['Processed_Message'] = data['Message'].apply(preprocess_text)\n",
    "\n",
    "# Vectorize the data using TF-IDF\n",
    "vectorizer = TfidfVectorizer(max_features=1000, min_df=2, max_df=0.95)\n",
    "tfidf_matrix = vectorizer.fit_transform(data['Processed_Message'])"
   ]
  },
  {
   "cell_type": "code",
   "execution_count": 14,
   "id": "472c18b7-2002-4f9b-b46d-79f62d29c69b",
   "metadata": {},
   "outputs": [],
   "source": [
    "# Fit the NMF model\n",
    "num_topics = 5  # Choose a number of topics\n",
    "nmf_model = NMF(n_components=num_topics, random_state=42)\n",
    "W = nmf_model.fit_transform(tfidf_matrix)\n",
    "H = nmf_model.components_"
   ]
  },
  {
   "cell_type": "code",
   "execution_count": 16,
   "id": "35d50101-ac2d-49f9-a6f4-a3608ad88cbf",
   "metadata": {},
   "outputs": [],
   "source": [
    "# Get the words associated with each topic\n",
    "feature_names = vectorizer.get_feature_names_out()"
   ]
  },
  {
   "cell_type": "code",
   "execution_count": 18,
   "id": "2b97df5a-8f4b-45d0-883e-f2ee7a6b3a81",
   "metadata": {},
   "outputs": [
    {
     "name": "stdout",
     "output_type": "stream",
     "text": [
      "Topic 0:\n",
      "call + free + please + mobile + claim + prize + text + message + phone + urgent\n",
      "Topic 1:\n",
      "gt + lt + min + decimal + like + minute + around + dis + sent + pay\n",
      "Topic 2:\n",
      "ok + lor + thanx + yup + go + ur + prob + wat + leave + msg\n",
      "Topic 3:\n",
      "sorry + later + call + meeting + da + tonight + im + talk + ca + may\n",
      "Topic 4:\n",
      "get + come + know + good + go + time + ur + got + want + like\n"
     ]
    }
   ],
   "source": [
    "# Display the topics\n",
    "def display_topics(H, feature_names, num_top_words):\n",
    "    for topic_idx, topic in enumerate(H):\n",
    "        print(f\"Topic {topic_idx}:\")\n",
    "        print(\" + \".join([f\"{feature_names[i]}\" for i in topic.argsort()[:-num_top_words - 1:-1]]))\n",
    "\n",
    "# Display the top words for each topic\n",
    "num_top_words = 10\n",
    "display_topics(H, feature_names, num_top_words)"
   ]
  },
  {
   "cell_type": "code",
   "execution_count": null,
   "id": "684530b6-bb6d-477c-8974-4bc61d7f01a8",
   "metadata": {},
   "outputs": [],
   "source": []
  }
 ],
 "metadata": {
  "kernelspec": {
   "display_name": "Python 3 (ipykernel)",
   "language": "python",
   "name": "python3"
  },
  "language_info": {
   "codemirror_mode": {
    "name": "ipython",
    "version": 3
   },
   "file_extension": ".py",
   "mimetype": "text/x-python",
   "name": "python",
   "nbconvert_exporter": "python",
   "pygments_lexer": "ipython3",
   "version": "3.12.3"
  }
 },
 "nbformat": 4,
 "nbformat_minor": 5
}
