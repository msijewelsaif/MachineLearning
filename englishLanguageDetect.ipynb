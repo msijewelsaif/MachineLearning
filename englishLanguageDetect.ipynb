{
 "cells": [
  {
   "cell_type": "code",
   "execution_count": null,
   "id": "cc176ae5-eccf-4a15-a784-3110284f3db6",
   "metadata": {},
   "outputs": [],
   "source": [
    "import pandas as pd\n",
    "from langdetect import detect, LangDetectException\n",
    "\n",
    "# Load the CSV file into a DataFrame\n",
    "df = pd.read_csv('Fireball_after_Russian_missile_hits_airport_in_western_Ukraine_24Feb2022_BBC_News.csv')  # Replace with your actual CSV file name\n",
    "\n",
    "# Assuming your comments are in a column named 'comment'\n",
    "def is_english(Comment):\n",
    "    try:\n",
    "        return detect(Comment) == 'en'\n",
    "    except LangDetectException:\n",
    "        return False\n",
    "\n",
    "# Apply the filter to keep only English comments\n",
    "df['is_english'] = df['Comment'].apply(lambda x: is_english(str(x)))\n",
    "\n",
    "# Filter the DataFrame to only include English comments\n",
    "english_comments_df = df[df['is_english']]\n",
    "\n",
    "# Drop the 'is_english' helper column\n",
    "english_comments_df = english_comments_df.drop(columns=['is_english'])\n",
    "\n",
    "# Save the filtered comments to a new CSV file\n",
    "english_comments_df.to_csv('english_comments.csv', index=False)\n",
    "\n",
    "print(\"Filtered English comments saved to 'Fireball_after_Russian_missile_hits_airport_in_western_Ukraine_24Feb2022_BBC_News_english_comments.csv'\")\n"
   ]
  },
  {
   "cell_type": "code",
   "execution_count": null,
   "id": "5341c1bc-04f0-4bca-b9e3-23d07b1aa20e",
   "metadata": {},
   "outputs": [],
   "source": []
  }
 ],
 "metadata": {
  "kernelspec": {
   "display_name": "Python 3 (ipykernel)",
   "language": "python",
   "name": "python3"
  },
  "language_info": {
   "codemirror_mode": {
    "name": "ipython",
    "version": 3
   },
   "file_extension": ".py",
   "mimetype": "text/x-python",
   "name": "python",
   "nbconvert_exporter": "python",
   "pygments_lexer": "ipython3",
   "version": "3.12.3"
  }
 },
 "nbformat": 4,
 "nbformat_minor": 5
}
